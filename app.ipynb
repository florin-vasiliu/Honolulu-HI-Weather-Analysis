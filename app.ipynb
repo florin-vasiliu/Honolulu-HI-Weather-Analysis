{
 "cells": [
  {
   "cell_type": "code",
   "execution_count": 1,
   "metadata": {},
   "outputs": [],
   "source": [
    " %matplotlib inline\n",
    "from matplotlib import style\n",
    "style.use('fivethirtyeight')\n",
    "import matplotlib.pyplot as plt\n",
    "import matplotlib.ticker as plticker"
   ]
  },
  {
   "cell_type": "code",
   "execution_count": 2,
   "metadata": {},
   "outputs": [],
   "source": [
    "import numpy as np\n",
    "import pandas as pd\n",
    "import scipy.stats as stats"
   ]
  },
  {
   "cell_type": "code",
   "execution_count": 3,
   "metadata": {},
   "outputs": [],
   "source": [
    "import datetime as dt"
   ]
  },
  {
   "cell_type": "markdown",
   "metadata": {},
   "source": [
    "# Reflect Tables into SQLAlchemy ORM"
   ]
  },
  {
   "cell_type": "code",
   "execution_count": 4,
   "metadata": {},
   "outputs": [],
   "source": [
    "# Python SQL toolkit and Object Relational Mapper\n",
    "import sqlalchemy\n",
    "from sqlalchemy.ext.automap import automap_base\n",
    "from sqlalchemy.orm import Session\n",
    "from sqlalchemy import create_engine, func, inspect, extract, desc, and_"
   ]
  },
  {
   "cell_type": "code",
   "execution_count": 5,
   "metadata": {},
   "outputs": [],
   "source": [
    "engine = create_engine(\"sqlite:///Resources/hawaii.sqlite\")"
   ]
  },
  {
   "cell_type": "code",
   "execution_count": 6,
   "metadata": {},
   "outputs": [],
   "source": [
    "# reflect an existing database into a new model\n",
    "Base = automap_base()\n",
    "# reflect the tables\n",
    "Base.prepare(engine, reflect = True)"
   ]
  },
  {
   "cell_type": "code",
   "execution_count": 7,
   "metadata": {},
   "outputs": [
    {
     "data": {
      "text/plain": [
       "['measurement', 'station']"
      ]
     },
     "execution_count": 7,
     "metadata": {},
     "output_type": "execute_result"
    }
   ],
   "source": [
    "# We can view all of the classes that automap found\n",
    "tables = Base.classes.keys()\n",
    "tables"
   ]
  },
  {
   "cell_type": "code",
   "execution_count": 8,
   "metadata": {},
   "outputs": [],
   "source": [
    "# Save references to each table\n",
    "tbl_measurement = Base.classes['measurement']\n",
    "tbl_station = Base.classes['station']"
   ]
  },
  {
   "cell_type": "code",
   "execution_count": 9,
   "metadata": {},
   "outputs": [
    {
     "name": "stdout",
     "output_type": "stream",
     "text": [
      "\n",
      "\n",
      "------------\n",
      "table 'measurement' has the following columns:\n",
      "------------\n",
      "name: id   column type: INTEGER\n",
      "name: station   column type: TEXT\n",
      "name: date   column type: TEXT\n",
      "name: prcp   column type: FLOAT\n",
      "name: tobs   column type: FLOAT\n",
      "\n",
      "\n",
      "------------\n",
      "table 'station' has the following columns:\n",
      "------------\n",
      "name: id   column type: INTEGER\n",
      "name: station   column type: TEXT\n",
      "name: name   column type: TEXT\n",
      "name: latitude   column type: FLOAT\n",
      "name: longitude   column type: FLOAT\n",
      "name: elevation   column type: FLOAT\n"
     ]
    }
   ],
   "source": [
    "# creating inspectior for columns generation\n",
    "inspector = inspect(engine)\n",
    "# Printing table metadata\n",
    "for table in tables:\n",
    "    print(\"\\n\")\n",
    "    print('-' * 12)\n",
    "    print(f\"table '{table}' has the following columns:\")\n",
    "    print('-' * 12)\n",
    "    for column in inspector.get_columns(table):\n",
    "        print(f\"name: {column['name']}   column type: {column['type']}\")"
   ]
  },
  {
   "cell_type": "code",
   "execution_count": 10,
   "metadata": {},
   "outputs": [],
   "source": [
    "# Create our session (link) from Python to the DB\n",
    "session = Session(bind=engine)"
   ]
  },
  {
   "cell_type": "markdown",
   "metadata": {},
   "source": [
    "# Exploratory Climate Analysis"
   ]
  },
  {
   "cell_type": "code",
   "execution_count": 11,
   "metadata": {},
   "outputs": [
    {
     "data": {
      "text/plain": [
       "'2019-04-11'"
      ]
     },
     "execution_count": 11,
     "metadata": {},
     "output_type": "execute_result"
    }
   ],
   "source": [
    "#Define function to substract # of months from a date (today() function is default)\n",
    "def month_offset(no_months, input_date=dt.date.today()):\n",
    "    \"\"\"\n",
    "    Returns the datetime (today by default) plus or minus the number of months.\n",
    "    Needs pandas & datetime library\n",
    "    \"\"\"\n",
    "    input_date=pd.to_datetime(input_date)\n",
    "    current_month = input_date.month\n",
    "    current_year = input_date.year\n",
    "    total_months = current_month+current_year*12\n",
    "    final_year = (total_months+no_months) // 12\n",
    "    final_month = (total_months+no_months) % 12\n",
    "    output_date = input_date.replace(year=final_year,month=final_month)\n",
    "    return dt.date.strftime(output_date, '%Y-%m-%d')\n",
    "\n",
    "\n",
    "#test\n",
    "month_offset(-12)"
   ]
  },
  {
   "cell_type": "code",
   "execution_count": 12,
   "metadata": {},
   "outputs": [
    {
     "data": {
      "text/plain": [
       "[]"
      ]
     },
     "execution_count": 12,
     "metadata": {},
     "output_type": "execute_result"
    },
    {
     "data": {
      "image/png": "[encoded data removed]",
      "text/plain": [
       "<Figure size 432x288 with 1 Axes>"
      ]
     },
     "metadata": {
      "needs_background": "light"
     },
     "output_type": "display_data"
    }
   ],
   "source": [
    "# Design a query to retrieve the last 12 months of precipitation data and plot the results\n",
    "\n",
    "# Calculate the date 1 year before the latest data point in the database\n",
    "last_date_recorded = session.query(func.max(tbl_measurement.date)).first()[0]\n",
    "starting_date_for_analysis = month_offset(-12, last_date_recorded)\n",
    "\n",
    "# Perform a query to retrieve the data and precipitation scores\n",
    "qry_measurements_last_year_records = session.query(tbl_measurement)\\\n",
    "    .filter(tbl_measurement.date > starting_date_for_analysis)\\\n",
    "    .order_by(tbl_measurement.date)\n",
    "\n",
    "# Save the query results as a Pandas DataFrame and set the index to the date column\n",
    "df_measurements_last_year_records = \\\n",
    "    pd.read_sql_query(qry_measurements_last_year_records.statement, session.bind)\n",
    "\n",
    "# Use Pandas Plotting with Matplotlib to plot the data\n",
    "x_axis=df_measurements_last_year_records.loc[:,\"date\"]\n",
    "y_axis=df_measurements_last_year_records.loc[:,\"prcp\"]\n",
    "\n",
    "# Plotting the data\n",
    "fig, ax = plt.subplots()\n",
    "ax.plot(x_axis, y_axis)\n",
    "ax.set_xlabel(\"Date\")\n",
    "ax.set_ylabel(\"Inches\")\n",
    "ax.legend([\"precipitation\"], loc=\"upper right\")\n",
    "\n",
    "# Spacing between each grid line\n",
    "loc = plticker.MultipleLocator(base=45)\n",
    "ax.xaxis.set_major_locator(loc)\n",
    "# Rotate x axis ticks\n",
    "ax.tick_params(axis=\"x\", labelrotation=90)\n",
    "\n",
    "plt.plot()\n"
   ]
  },
  {
   "cell_type": "code",
   "execution_count": 13,
   "metadata": {},
   "outputs": [
    {
     "data": {
      "text/plain": [
       "count    2015.000000\n",
       "mean        0.176462\n",
       "std         0.460288\n",
       "min         0.000000\n",
       "25%         0.000000\n",
       "50%         0.020000\n",
       "75%         0.130000\n",
       "max         6.700000\n",
       "Name: prcp, dtype: float64"
      ]
     },
     "execution_count": 13,
     "metadata": {},
     "output_type": "execute_result"
    }
   ],
   "source": [
    "# Use Pandas to calcualte the summary statistics for the precipitation data\n",
    "df_measurements_last_year_records.loc[:,\"prcp\"].describe()"
   ]
  },
  {
   "cell_type": "code",
   "execution_count": 14,
   "metadata": {},
   "outputs": [],
   "source": [
    "# Design a query to show how many stations are available in this dataset?\n",
    "qry_no_stations = session.query(func.count(tbl_station.name)).first()\n",
    "number_of_distinct_stations=qry_no_stations[0]"
   ]
  },
  {
   "cell_type": "code",
   "execution_count": 15,
   "metadata": {},
   "outputs": [
    {
     "data": {
      "text/html": [
       "<div>\n",
       "<style scoped>\n",
       "    .dataframe tbody tr th:only-of-type {\n",
       "        vertical-align: middle;\n",
       "    }\n",
       "\n",
       "    .dataframe tbody tr th {\n",
       "        vertical-align: top;\n",
       "    }\n",
       "\n",
       "    .dataframe thead th {\n",
       "        text-align: right;\n",
       "    }\n",
       "</style>\n",
       "<table border=\"1\" class=\"dataframe\">\n",
       "  <thead>\n",
       "    <tr style=\"text-align: right;\">\n",
       "      <th></th>\n",
       "      <th>name</th>\n",
       "      <th>count_id</th>\n",
       "    </tr>\n",
       "  </thead>\n",
       "  <tbody>\n",
       "    <tr>\n",
       "      <td>0</td>\n",
       "      <td>WAIHEE 837.5, HI US</td>\n",
       "      <td>2772</td>\n",
       "    </tr>\n",
       "    <tr>\n",
       "      <td>1</td>\n",
       "      <td>WAIKIKI 717.2, HI US</td>\n",
       "      <td>2724</td>\n",
       "    </tr>\n",
       "    <tr>\n",
       "      <td>2</td>\n",
       "      <td>KANEOHE 838.1, HI US</td>\n",
       "      <td>2709</td>\n",
       "    </tr>\n",
       "    <tr>\n",
       "      <td>3</td>\n",
       "      <td>WAIMANALO EXPERIMENTAL FARM, HI US</td>\n",
       "      <td>2669</td>\n",
       "    </tr>\n",
       "    <tr>\n",
       "      <td>4</td>\n",
       "      <td>MANOA LYON ARBO 785.2, HI US</td>\n",
       "      <td>2612</td>\n",
       "    </tr>\n",
       "    <tr>\n",
       "      <td>5</td>\n",
       "      <td>KUALOA RANCH HEADQUARTERS 886.9, HI US</td>\n",
       "      <td>2202</td>\n",
       "    </tr>\n",
       "    <tr>\n",
       "      <td>6</td>\n",
       "      <td>HONOLULU OBSERVATORY 702.2, HI US</td>\n",
       "      <td>1979</td>\n",
       "    </tr>\n",
       "    <tr>\n",
       "      <td>7</td>\n",
       "      <td>PEARL CITY, HI US</td>\n",
       "      <td>1372</td>\n",
       "    </tr>\n",
       "    <tr>\n",
       "      <td>8</td>\n",
       "      <td>UPPER WAHIAWA 874.3, HI US</td>\n",
       "      <td>511</td>\n",
       "    </tr>\n",
       "  </tbody>\n",
       "</table>\n",
       "</div>"
      ],
      "text/plain": [
       "                                     name  count_id\n",
       "0                     WAIHEE 837.5, HI US      2772\n",
       "1                    WAIKIKI 717.2, HI US      2724\n",
       "2                    KANEOHE 838.1, HI US      2709\n",
       "3      WAIMANALO EXPERIMENTAL FARM, HI US      2669\n",
       "4            MANOA LYON ARBO 785.2, HI US      2612\n",
       "5  KUALOA RANCH HEADQUARTERS 886.9, HI US      2202\n",
       "6       HONOLULU OBSERVATORY 702.2, HI US      1979\n",
       "7                       PEARL CITY, HI US      1372\n",
       "8              UPPER WAHIAWA 874.3, HI US       511"
      ]
     },
     "execution_count": 15,
     "metadata": {},
     "output_type": "execute_result"
    }
   ],
   "source": [
    "# What are the most active stations? (i.e. what stations have the most rows)?\n",
    "# List the stations and the counts in descending order.\n",
    "qry_station_activity = session \\\n",
    "    .query(tbl_station.name,func.count(tbl_measurement.id).label('count_id')) \\\n",
    "    .filter(tbl_station.station==tbl_measurement.station) \\\n",
    "    .group_by(tbl_station.name) \\\n",
    "    .order_by(desc('count_id'))\n",
    "df_station_activity = pd.read_sql_query(qry_station_activity.statement, session.bind)\n",
    "df_station_activity"
   ]
  },
  {
   "cell_type": "code",
   "execution_count": 16,
   "metadata": {},
   "outputs": [
    {
     "data": {
      "text/html": [
       "<div>\n",
       "<style scoped>\n",
       "    .dataframe tbody tr th:only-of-type {\n",
       "        vertical-align: middle;\n",
       "    }\n",
       "\n",
       "    .dataframe tbody tr th {\n",
       "        vertical-align: top;\n",
       "    }\n",
       "\n",
       "    .dataframe thead th {\n",
       "        text-align: right;\n",
       "    }\n",
       "</style>\n",
       "<table border=\"1\" class=\"dataframe\">\n",
       "  <thead>\n",
       "    <tr style=\"text-align: right;\">\n",
       "      <th></th>\n",
       "      <th>name</th>\n",
       "      <th>t_min</th>\n",
       "      <th>t_avg</th>\n",
       "      <th>t_max</th>\n",
       "    </tr>\n",
       "  </thead>\n",
       "  <tbody>\n",
       "    <tr>\n",
       "      <td>0</td>\n",
       "      <td>WAIHEE 837.5, HI US</td>\n",
       "      <td>54.0</td>\n",
       "      <td>71.663781</td>\n",
       "      <td>85.0</td>\n",
       "    </tr>\n",
       "  </tbody>\n",
       "</table>\n",
       "</div>"
      ],
      "text/plain": [
       "                  name  t_min      t_avg  t_max\n",
       "0  WAIHEE 837.5, HI US   54.0  71.663781   85.0"
      ]
     },
     "execution_count": 16,
     "metadata": {},
     "output_type": "execute_result"
    }
   ],
   "source": [
    "# Using the station id from the previous query, calculate the lowest temperature recorded, \n",
    "# highest temperature recorded, and average temperature of the most active station?\n",
    "qry_Waihee_info = session \\\n",
    "    .query(\n",
    "        tbl_station.name, \\\n",
    "        func.min(tbl_measurement.tobs).label('t_min'), \\\n",
    "        func.avg(tbl_measurement.tobs).label('t_avg'), \\\n",
    "        func.max(tbl_measurement.tobs).label('t_max')) \\\n",
    "    .filter(and_(\n",
    "        tbl_station.station==tbl_measurement.station, \\\n",
    "        tbl_station.name==\"WAIHEE 837.5, HI US\")) \n",
    "df_Waihee_info = pd.read_sql_query(qry_Waihee_info.statement, session.bind)\n",
    "df_Waihee_info"
   ]
  },
  {
   "cell_type": "code",
   "execution_count": 17,
   "metadata": {},
   "outputs": [
    {
     "data": {
      "image/png": "[encoded data removed]",
      "text/plain": [
       "<Figure size 432x288 with 1 Axes>"
      ]
     },
     "metadata": {
      "needs_background": "light"
     },
     "output_type": "display_data"
    }
   ],
   "source": [
    "# Choose the station with the highest number of temperature observations.\n",
    "# Query the last 12 months of temperature observation data for this station and plot the results as a histogram\n",
    "\n",
    "# Query to get the latest date for Waihee station\n",
    "qry_Waihee_latest_date = session \\\n",
    "    .query(\n",
    "        tbl_station.name, \\\n",
    "        tbl_measurement.date) \\\n",
    "    .filter(and_(\n",
    "        tbl_station.station==tbl_measurement.station, \\\n",
    "        tbl_station.name==\"WAIHEE 837.5, HI US\")) \\\n",
    "    .order_by(desc(tbl_measurement.date)) \\\n",
    "    .first()[1]\n",
    "Waihee_latest_date = qry_Waihee_latest_date\n",
    "\n",
    "# Query to get the last year of data for Waihee station\n",
    "qry_Waihee_data_to_plot = session \\\n",
    "    .query(\n",
    "        tbl_measurement.date, \\\n",
    "        tbl_measurement.tobs) \\\n",
    "    .filter(and_(\n",
    "        tbl_station.station==tbl_measurement.station, \\\n",
    "        tbl_station.name==\"WAIHEE 837.5, HI US\", \\\n",
    "        tbl_measurement.date>month_offset(-12, Waihee_latest_date))) \\\n",
    "    .order_by(desc(tbl_measurement.date)) \n",
    "qry_Waihee_data_to_plot = pd.read_sql_query(qry_Waihee_data_to_plot.statement, session.bind)\n",
    "\n",
    "#plot the histogram of temperatures for the most active station\n",
    "\n",
    "fig, ax = plt.subplots()\n",
    "ax.hist(qry_Waihee_data_to_plot['tobs'], bins=12)\n",
    "ax.legend([\"tobs\"], loc=\"upper left\")\n",
    "ax.set_xlabel(\"Temperature\")\n",
    "ax.set_ylabel(\"Frequency\")\n",
    "plt.show()\n"
   ]
  },
  {
   "cell_type": "markdown",
   "metadata": {},
   "source": [
    "## Bonus Challenge Assignment"
   ]
  },
  {
   "cell_type": "markdown",
   "metadata": {},
   "source": [
    "## Temperature analysis I"
   ]
  },
  {
   "cell_type": "code",
   "execution_count": 18,
   "metadata": {},
   "outputs": [
    {
     "data": {
      "text/html": [
       "<div>\n",
       "<style scoped>\n",
       "    .dataframe tbody tr th:only-of-type {\n",
       "        vertical-align: middle;\n",
       "    }\n",
       "\n",
       "    .dataframe tbody tr th {\n",
       "        vertical-align: top;\n",
       "    }\n",
       "\n",
       "    .dataframe thead th {\n",
       "        text-align: right;\n",
       "    }\n",
       "</style>\n",
       "<table border=\"1\" class=\"dataframe\">\n",
       "  <thead>\n",
       "    <tr style=\"text-align: right;\">\n",
       "      <th></th>\n",
       "      <th>year</th>\n",
       "      <th>AvgT_Jun</th>\n",
       "      <th>AvgT_Dec</th>\n",
       "    </tr>\n",
       "  </thead>\n",
       "  <tbody>\n",
       "    <tr>\n",
       "      <td>0</td>\n",
       "      <td>2010</td>\n",
       "      <td>74.925620</td>\n",
       "      <td>70.208511</td>\n",
       "    </tr>\n",
       "    <tr>\n",
       "      <td>1</td>\n",
       "      <td>2011</td>\n",
       "      <td>73.938326</td>\n",
       "      <td>70.820628</td>\n",
       "    </tr>\n",
       "    <tr>\n",
       "      <td>2</td>\n",
       "      <td>2012</td>\n",
       "      <td>74.000000</td>\n",
       "      <td>71.188073</td>\n",
       "    </tr>\n",
       "    <tr>\n",
       "      <td>3</td>\n",
       "      <td>2013</td>\n",
       "      <td>74.599078</td>\n",
       "      <td>71.094017</td>\n",
       "    </tr>\n",
       "    <tr>\n",
       "      <td>4</td>\n",
       "      <td>2014</td>\n",
       "      <td>75.027907</td>\n",
       "      <td>69.896861</td>\n",
       "    </tr>\n",
       "    <tr>\n",
       "      <td>5</td>\n",
       "      <td>2015</td>\n",
       "      <td>74.990148</td>\n",
       "      <td>73.423913</td>\n",
       "    </tr>\n",
       "    <tr>\n",
       "      <td>6</td>\n",
       "      <td>2016</td>\n",
       "      <td>75.175258</td>\n",
       "      <td>71.130000</td>\n",
       "    </tr>\n",
       "  </tbody>\n",
       "</table>\n",
       "</div>"
      ],
      "text/plain": [
       "   year   AvgT_Jun   AvgT_Dec\n",
       "0  2010  74.925620  70.208511\n",
       "1  2011  73.938326  70.820628\n",
       "2  2012  74.000000  71.188073\n",
       "3  2013  74.599078  71.094017\n",
       "4  2014  75.027907  69.896861\n",
       "5  2015  74.990148  73.423913\n",
       "6  2016  75.175258  71.130000"
      ]
     },
     "execution_count": 18,
     "metadata": {},
     "output_type": "execute_result"
    }
   ],
   "source": [
    "# Creating a dataframe with the average temperatures in June and December, \n",
    "#for all years in the DB\n",
    "\n",
    "# Define function to extract avg temp for all years for one single month\n",
    "def avg_temperatures(month):\n",
    "    qry_avg_temp_june=session \\\n",
    "        .query(extract('year', tbl_measurement.date),func.avg(tbl_measurement.tobs)) \\\n",
    "        .filter(extract('month', tbl_measurement.date)==month) \\\n",
    "        .group_by(extract('year', tbl_measurement.date))\n",
    "    return pd.read_sql_query(qry_avg_temp_june.statement, session.bind)\n",
    "\n",
    "#generating dataframe with the data of interest\n",
    "df_avg_temp=pd.merge(avg_temperatures(6),avg_temperatures(12), on=\"anon_1\")\n",
    "df_avg_temp=df_avg_temp.rename(columns={\"anon_1\":\"year\", \"avg_1_x\":\"AvgT_Jun\", \"avg_1_y\":\"AvgT_Dec\"})\n",
    "df_avg_temp"
   ]
  },
  {
   "cell_type": "code",
   "execution_count": 19,
   "metadata": {},
   "outputs": [
    {
     "data": {
      "text/plain": [
       "<matplotlib.legend.Legend at 0x205555bf888>"
      ]
     },
     "execution_count": 19,
     "metadata": {},
     "output_type": "execute_result"
    },
    {
     "data": {
      "image/png": "[encoded data removed]",
      "text/plain": [
       "<Figure size 432x288 with 2 Axes>"
      ]
     },
     "metadata": {
      "needs_background": "light"
     },
     "output_type": "display_data"
    }
   ],
   "source": [
    "# Plotting the data\n",
    "\n",
    "# Scatter Plot of Data\n",
    "fig, ax = plt.subplots(2, 1)\n",
    "ax[0].scatter(df_avg_temp['year'], df_avg_temp['AvgT_Jun'], label=\"June\")\n",
    "ax[0].scatter(df_avg_temp['year'], df_avg_temp['AvgT_Dec'], label=\"Dec\")\n",
    "ax[0].set_xlabel(\"year\")\n",
    "ax[0].set_ylabel(\"temp.\")\n",
    "ax[0].set_ylim(65,80)\n",
    "ax[0].legend(loc=\"lower right\")\n",
    "\n",
    "# Histogram Plot of Data\n",
    "ax[1].hist(df_avg_temp['AvgT_Jun'], 10, density=True, alpha=0.7, label=\"June\")\n",
    "ax[1].hist(df_avg_temp['AvgT_Dec'], 10, density=True, alpha=0.7, label=\"Dec\")\n",
    "ax[1].axvline(df_avg_temp['AvgT_Jun'].mean(), color='k', linestyle='dashed', linewidth=1)\n",
    "ax[1].axvline(df_avg_temp['AvgT_Dec'].mean(), color='k', linestyle='dashed', linewidth=1)\n",
    "ax[1].set_xlabel(\"temp.\")\n",
    "ax[1].set_ylabel(\"freq.\")\n",
    "ax[1].legend()  "
   ]
  },
  {
   "cell_type": "code",
   "execution_count": 20,
   "metadata": {},
   "outputs": [
    {
     "data": {
      "text/plain": [
       "Ttest_indResult(statistic=7.570096659210406, pvalue=5.3283128862831936e-05)"
      ]
     },
     "execution_count": 20,
     "metadata": {},
     "output_type": "execute_result"
    }
   ],
   "source": [
    "# two sided T-test without assumption of equal variances  \n",
    "stats.ttest_ind(df_avg_temp[\"AvgT_Jun\"], df_avg_temp[\"AvgT_Dec\"], equal_var=False)"
   ]
  },
  {
   "cell_type": "markdown",
   "metadata": {},
   "source": [
    "# Temperature Analysis II"
   ]
  },
  {
   "cell_type": "code",
   "execution_count": 21,
   "metadata": {},
   "outputs": [
    {
     "name": "stdout",
     "output_type": "stream",
     "text": [
      "[(62.0, 69.57142857142857, 74.0)]\n"
     ]
    }
   ],
   "source": [
    "# This function called `calc_temps` will accept start date and end date in the format '%Y-%m-%d' \n",
    "# and return the minimum, average, and maximum temperatures for that range of dates\n",
    "def calc_temps(start_date, end_date):\n",
    "    \"\"\"TMIN, TAVG, and TMAX for a list of dates.\n",
    "    \n",
    "    Args:\n",
    "        start_date (string): A date string in the format %Y-%m-%d\n",
    "        end_date (string): A date string in the format %Y-%m-%d\n",
    "        \n",
    "    Returns:\n",
    "        TMIN, TAVE, and TMAX\n",
    "    \"\"\"\n",
    "    \n",
    "    return session.query(func.min(tbl_measurement.tobs), func.avg(tbl_measurement.tobs), func.max(tbl_measurement.tobs)).\\\n",
    "        filter(tbl_measurement.date >= start_date).filter(tbl_measurement.date <= end_date).all()\n",
    "\n",
    "# function usage example\n",
    "print(calc_temps('2012-02-28', '2012-03-05'))"
   ]
  },
  {
   "cell_type": "code",
   "execution_count": 22,
   "metadata": {},
   "outputs": [
    {
     "data": {
      "text/plain": [
       "[(62.0, 68.36585365853658, 74.0)]"
      ]
     },
     "execution_count": 22,
     "metadata": {},
     "output_type": "execute_result"
    }
   ],
   "source": [
    "# Use your previous function `calc_temps` to calculate the tmin, tavg, and tmax \n",
    "# for your trip using the previous year's data for those same dates.\n",
    "start_vacation_date = '2018-01-01'\n",
    "end_vacation_date = '2018-01-07'\n",
    "\n",
    "period_before_months = 12\n",
    "period_start = month_offset(-period_before_months, start_vacation_date)\n",
    "period_end = month_offset(-period_before_months, end_vacation_date)\n",
    "\n",
    "temp_of_interest = calc_temps(period_start, period_end)\n",
    "temp_of_interest"
   ]
  },
  {
   "cell_type": "code",
   "execution_count": 23,
   "metadata": {},
   "outputs": [
    {
     "data": {
      "text/plain": [
       "<ErrorbarContainer object of 3 artists>"
      ]
     },
     "execution_count": 23,
     "metadata": {},
     "output_type": "execute_result"
    },
    {
     "data": {
      "image/png": "[encoded data removed]",
      "text/plain": [
       "<Figure size 216x432 with 1 Axes>"
      ]
     },
     "metadata": {
      "needs_background": "light"
     },
     "output_type": "display_data"
    }
   ],
   "source": [
    "# Plot the results from your previous query as a bar chart. \n",
    "# Use \"Trip Avg Temp\" as your Title\n",
    "# Use the average temperature for the y value\n",
    "# Use the peak-to-peak (tmax-tmin) value as the y error bar (yerr)\n",
    "\n",
    "x = 0\n",
    "y = temp_of_interest[0][1]\n",
    "upper_error = temp_of_interest[0][2] - temp_of_interest[0][1]\n",
    "lower_error = temp_of_interest[0][1] - temp_of_interest[0][0]\n",
    "\n",
    "fig, ax = plt.subplots(1, 1, figsize=(3,6))\n",
    "ax.bar(x, y, color=\"#F7B79F\")\n",
    "ax.set_title(\"Trip Avg Temp\")\n",
    "ax.set_xticks([])\n",
    "ax.set_ylabel(\"Temp (F)\")\n",
    "ax.set_xlim(-1,1)\n",
    "ax.errorbar(x, y, yerr=[[lower_error],[upper_error]], color=\"black\") \n"
   ]
  },
  {
   "cell_type": "code",
   "execution_count": 24,
   "metadata": {},
   "outputs": [
    {
     "data": {
      "text/html": [
       "<div>\n",
       "<style scoped>\n",
       "    .dataframe tbody tr th:only-of-type {\n",
       "        vertical-align: middle;\n",
       "    }\n",
       "\n",
       "    .dataframe tbody tr th {\n",
       "        vertical-align: top;\n",
       "    }\n",
       "\n",
       "    .dataframe thead th {\n",
       "        text-align: right;\n",
       "    }\n",
       "</style>\n",
       "<table border=\"1\" class=\"dataframe\">\n",
       "  <thead>\n",
       "    <tr style=\"text-align: right;\">\n",
       "      <th></th>\n",
       "      <th>name</th>\n",
       "      <th>elevation</th>\n",
       "      <th>latitude</th>\n",
       "      <th>longitude</th>\n",
       "      <th>Total_Rainfall</th>\n",
       "    </tr>\n",
       "  </thead>\n",
       "  <tbody>\n",
       "    <tr>\n",
       "      <td>0</td>\n",
       "      <td>WAIMANALO EXPERIMENTAL FARM, HI US</td>\n",
       "      <td>19.5</td>\n",
       "      <td>21.33556</td>\n",
       "      <td>-157.71139</td>\n",
       "      <td>0.61</td>\n",
       "    </tr>\n",
       "    <tr>\n",
       "      <td>1</td>\n",
       "      <td>MANOA LYON ARBO 785.2, HI US</td>\n",
       "      <td>152.4</td>\n",
       "      <td>21.33310</td>\n",
       "      <td>-157.80250</td>\n",
       "      <td>0.60</td>\n",
       "    </tr>\n",
       "    <tr>\n",
       "      <td>2</td>\n",
       "      <td>KUALOA RANCH HEADQUARTERS 886.9, HI US</td>\n",
       "      <td>7.0</td>\n",
       "      <td>21.52130</td>\n",
       "      <td>-157.83740</td>\n",
       "      <td>0.60</td>\n",
       "    </tr>\n",
       "    <tr>\n",
       "      <td>3</td>\n",
       "      <td>KANEOHE 838.1, HI US</td>\n",
       "      <td>14.6</td>\n",
       "      <td>21.42340</td>\n",
       "      <td>-157.80150</td>\n",
       "      <td>0.29</td>\n",
       "    </tr>\n",
       "    <tr>\n",
       "      <td>4</td>\n",
       "      <td>WAIHEE 837.5, HI US</td>\n",
       "      <td>32.9</td>\n",
       "      <td>21.45167</td>\n",
       "      <td>-157.84889</td>\n",
       "      <td>0.20</td>\n",
       "    </tr>\n",
       "    <tr>\n",
       "      <td>5</td>\n",
       "      <td>WAIKIKI 717.2, HI US</td>\n",
       "      <td>3.0</td>\n",
       "      <td>21.27160</td>\n",
       "      <td>-157.81680</td>\n",
       "      <td>0.00</td>\n",
       "    </tr>\n",
       "  </tbody>\n",
       "</table>\n",
       "</div>"
      ],
      "text/plain": [
       "                                     name  elevation  latitude  longitude  \\\n",
       "0      WAIMANALO EXPERIMENTAL FARM, HI US       19.5  21.33556 -157.71139   \n",
       "1            MANOA LYON ARBO 785.2, HI US      152.4  21.33310 -157.80250   \n",
       "2  KUALOA RANCH HEADQUARTERS 886.9, HI US        7.0  21.52130 -157.83740   \n",
       "3                    KANEOHE 838.1, HI US       14.6  21.42340 -157.80150   \n",
       "4                     WAIHEE 837.5, HI US       32.9  21.45167 -157.84889   \n",
       "5                    WAIKIKI 717.2, HI US        3.0  21.27160 -157.81680   \n",
       "\n",
       "   Total_Rainfall  \n",
       "0            0.61  \n",
       "1            0.60  \n",
       "2            0.60  \n",
       "3            0.29  \n",
       "4            0.20  \n",
       "5            0.00  "
      ]
     },
     "execution_count": 24,
     "metadata": {},
     "output_type": "execute_result"
    }
   ],
   "source": [
    "# Calculate the total amount of rainfall per weather station for your trip dates using the previous year's matching dates.\n",
    "# Sort this in descending order by precipitation amount and list the station, name, latitude, longitude, and elevation\n",
    "\n",
    "qry_station_rainfall = session \\\n",
    "    .query(tbl_station.name,\n",
    "           tbl_station.elevation,\n",
    "           tbl_station.latitude,\n",
    "           tbl_station.longitude,\n",
    "           func.sum(tbl_measurement.prcp).label('Total_Rainfall')) \\\n",
    "    .filter(and_(tbl_station.station==tbl_measurement.station,\n",
    "                 tbl_measurement.date>=period_start,\n",
    "                 tbl_measurement.date<period_end)) \\\n",
    "    .group_by(tbl_station.name) \\\n",
    "    .order_by(desc('Total_Rainfall'))\n",
    "df_station_rainfall = pd.read_sql_query(qry_station_rainfall.statement, session.bind)\n",
    "df_station_rainfall"
   ]
  },
  {
   "cell_type": "code",
   "execution_count": 25,
   "metadata": {},
   "outputs": [
    {
     "data": {
      "text/plain": [
       "[(62.0, 69.15384615384616, 77.0)]"
      ]
     },
     "execution_count": 25,
     "metadata": {},
     "output_type": "execute_result"
    }
   ],
   "source": [
    "# Create a query that will calculate the daily normals \n",
    "# (i.e. the averages for tmin, tmax, and tavg for all historic data matching a specific month and day)\n",
    "\n",
    "def daily_normals(date):\n",
    "    \"\"\"Daily Normals.\n",
    "    \n",
    "    Args:\n",
    "        date (str): A date string in the format '%m-%d'\n",
    "        \n",
    "    Returns:\n",
    "        A list of tuples containing the daily normals, tmin, tavg, and tmax\n",
    "    \n",
    "    \"\"\"\n",
    "    \n",
    "    sel = [func.min(tbl_measurement.tobs), func.avg(tbl_measurement.tobs), func.max(tbl_measurement.tobs)]\n",
    "    return session.query(*sel).filter(func.strftime(\"%m-%d\", tbl_measurement.date) == date).all()\n",
    "    \n",
    "daily_normals(\"01-01\")"
   ]
  },
  {
   "cell_type": "code",
   "execution_count": 26,
   "metadata": {},
   "outputs": [],
   "source": [
    "# calculate the daily normals for your trip\n",
    "# push each tuple of calculations into a list called `normals`\n",
    "\n",
    "# Set the start and end date of the trip\n",
    "start_vacation_date = start_vacation_date #alrealy defined earlier in the code\n",
    "end_vacation_date = end_vacation_date #alrealy defined earlier earlier in the code\n",
    "\n",
    "# Use the start and end date to create a range of dates\n",
    "lst_vacation_dmy = pd.date_range(start=start_vacation_date, end=end_vacation_date)\n",
    "\n",
    "# Stip off the year and save a list of %m-%d strings\n",
    "lst_vacation_days = [dt.datetime.strftime(x, '%m-%d') for x in lst_vacation_dmy]\n",
    "\n",
    "# Loop through the list of %m-%d strings and calculate the normals for each date\n",
    "lst_daily_normals = [[daily_normals(x)[0][0], \\\n",
    "                      daily_normals(x)[0][1], \\\n",
    "                      daily_normals(x)[0][2]] \\\n",
    "                     for x in lst_vacation_days]\n",
    "\n",
    "lst_daily_normals = np.transpose(lst_daily_normals)\n"
   ]
  },
  {
   "cell_type": "code",
   "execution_count": 27,
   "metadata": {},
   "outputs": [
    {
     "data": {
      "text/html": [
       "<div>\n",
       "<style scoped>\n",
       "    .dataframe tbody tr th:only-of-type {\n",
       "        vertical-align: middle;\n",
       "    }\n",
       "\n",
       "    .dataframe tbody tr th {\n",
       "        vertical-align: top;\n",
       "    }\n",
       "\n",
       "    .dataframe thead th {\n",
       "        text-align: right;\n",
       "    }\n",
       "</style>\n",
       "<table border=\"1\" class=\"dataframe\">\n",
       "  <thead>\n",
       "    <tr style=\"text-align: right;\">\n",
       "      <th></th>\n",
       "      <th>Tmin</th>\n",
       "      <th>Tavg</th>\n",
       "      <th>Tmax</th>\n",
       "    </tr>\n",
       "    <tr>\n",
       "      <th>Day</th>\n",
       "      <th></th>\n",
       "      <th></th>\n",
       "      <th></th>\n",
       "    </tr>\n",
       "  </thead>\n",
       "  <tbody>\n",
       "    <tr>\n",
       "      <td>2018-01-01</td>\n",
       "      <td>62.0</td>\n",
       "      <td>69.153846</td>\n",
       "      <td>77.0</td>\n",
       "    </tr>\n",
       "    <tr>\n",
       "      <td>2018-01-02</td>\n",
       "      <td>60.0</td>\n",
       "      <td>69.396226</td>\n",
       "      <td>77.0</td>\n",
       "    </tr>\n",
       "    <tr>\n",
       "      <td>2018-01-03</td>\n",
       "      <td>62.0</td>\n",
       "      <td>68.909091</td>\n",
       "      <td>77.0</td>\n",
       "    </tr>\n",
       "    <tr>\n",
       "      <td>2018-01-04</td>\n",
       "      <td>58.0</td>\n",
       "      <td>70.000000</td>\n",
       "      <td>76.0</td>\n",
       "    </tr>\n",
       "    <tr>\n",
       "      <td>2018-01-05</td>\n",
       "      <td>56.0</td>\n",
       "      <td>67.964286</td>\n",
       "      <td>76.0</td>\n",
       "    </tr>\n",
       "    <tr>\n",
       "      <td>2018-01-06</td>\n",
       "      <td>61.0</td>\n",
       "      <td>68.964912</td>\n",
       "      <td>76.0</td>\n",
       "    </tr>\n",
       "    <tr>\n",
       "      <td>2018-01-07</td>\n",
       "      <td>57.0</td>\n",
       "      <td>68.543860</td>\n",
       "      <td>76.0</td>\n",
       "    </tr>\n",
       "  </tbody>\n",
       "</table>\n",
       "</div>"
      ],
      "text/plain": [
       "            Tmin       Tavg  Tmax\n",
       "Day                              \n",
       "2018-01-01  62.0  69.153846  77.0\n",
       "2018-01-02  60.0  69.396226  77.0\n",
       "2018-01-03  62.0  68.909091  77.0\n",
       "2018-01-04  58.0  70.000000  76.0\n",
       "2018-01-05  56.0  67.964286  76.0\n",
       "2018-01-06  61.0  68.964912  76.0\n",
       "2018-01-07  57.0  68.543860  76.0"
      ]
     },
     "execution_count": 27,
     "metadata": {},
     "output_type": "execute_result"
    }
   ],
   "source": [
    "# Load the previous query results into a Pandas DataFrame and add the `trip_dates` range as the `date` index\n",
    "df_est_temp_for_vacation = \\\n",
    "    pd.DataFrame(zip(lst_vacation_dmy,*lst_daily_normals))\n",
    "df_est_temp_for_vacation = \\\n",
    "    df_est_temp_for_vacation.rename(columns={\n",
    "        0: \"Day\",\n",
    "        1: \"Tmin\",\n",
    "        2: \"Tavg\",\n",
    "        3: \"Tmax\"})\n",
    "df_est_temp_for_vacation = df_est_temp_for_vacation.set_index(\"Day\")\n",
    "df_est_temp_for_vacation"
   ]
  },
  {
   "cell_type": "code",
   "execution_count": 28,
   "metadata": {
    "scrolled": false
   },
   "outputs": [
    {
     "data": {
      "text/plain": [
       "Text(0, 0.5, 'Temperature')"
      ]
     },
     "execution_count": 28,
     "metadata": {},
     "output_type": "execute_result"
    },
    {
     "data": {
      "text/plain": [
       "<Figure size 1152x1152 with 0 Axes>"
      ]
     },
     "metadata": {},
     "output_type": "display_data"
    },
    {
     "data": {
      "image/png": "[encoded data removed]",
      "text/plain": [
       "<Figure size 432x288 with 1 Axes>"
      ]
     },
     "metadata": {
      "needs_background": "light"
     },
     "output_type": "display_data"
    }
   ],
   "source": [
    "# Plot the daily normals as an area plot with `stacked=False`\n",
    "fig = plt.figure(figsize=(16,16))\n",
    "ax = df_est_temp_for_vacation.plot(kind=\"area\", stacked=False, alpha=0.1)\n",
    "ax.set_xlabel(\"Date\")\n",
    "ax.set_ylabel(\"Temperature\")\n",
    "\n"
   ]
  }
 ],
 "metadata": {
  "kernel_info": {
   "name": "python3"
  },
  "kernelspec": {
   "display_name": "Python 3",
   "language": "python",
   "name": "python3"
  },
  "language_info": {
   "codemirror_mode": {
    "name": "ipython",
    "version": 3
   },
   "file_extension": ".py",
   "mimetype": "text/x-python",
   "name": "python",
   "nbconvert_exporter": "python",
   "pygments_lexer": "ipython3",
   "version": "3.7.4"
  },
  "nteract": {
   "version": "0.12.3"
  },
  "varInspector": {
   "cols": {
    "lenName": 16,
    "lenType": 16,
    "lenVar": 40
   },
   "kernels_config": {
    "python": {
     "delete_cmd_postfix": "",
     "delete_cmd_prefix": "del ",
     "library": "var_list.py",
     "varRefreshCmd": "print(var_dic_list())"
    },
    "r": {
     "delete_cmd_postfix": ") ",
     "delete_cmd_prefix": "rm(",
     "library": "var_list.r",
     "varRefreshCmd": "cat(var_dic_list()) "
    }
   },
   "types_to_exclude": [
    "module",
    "function",
    "builtin_function_or_method",
    "instance",
    "_Feature"
   ],
   "window_display": false
  }
 },
 "nbformat": 4,
 "nbformat_minor": 2
}
