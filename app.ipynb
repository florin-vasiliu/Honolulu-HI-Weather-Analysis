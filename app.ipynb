{
 "cells": [
  {
   "cell_type": "code",
   "execution_count": 2,
   "metadata": {},
   "outputs": [],
   "source": [
    " %matplotlib inline\n",
    "from matplotlib import style\n",
    "style.use('fivethirtyeight')\n",
    "import matplotlib.pyplot as plt\n",
    "import matplotlib.ticker as plticker"
   ]
  },
  {
   "cell_type": "code",
   "execution_count": 3,
   "metadata": {},
   "outputs": [],
   "source": [
    "import numpy as np\n",
    "import pandas as pd"
   ]
  },
  {
   "cell_type": "code",
   "execution_count": 4,
   "metadata": {},
   "outputs": [],
   "source": [
    "import datetime as dt"
   ]
  },
  {
   "cell_type": "markdown",
   "metadata": {},
   "source": [
    "# Reflect Tables into SQLAlchemy ORM"
   ]
  },
  {
   "cell_type": "code",
   "execution_count": 115,
   "metadata": {},
   "outputs": [],
   "source": [
    "# Python SQL toolkit and Object Relational Mapper\n",
    "import sqlalchemy\n",
    "from sqlalchemy.ext.automap import automap_base\n",
    "from sqlalchemy.orm import Session\n",
    "from sqlalchemy import create_engine, func, inspect, desc, and_"
   ]
  },
  {
   "cell_type": "code",
   "execution_count": 6,
   "metadata": {},
   "outputs": [],
   "source": [
    "engine = create_engine(\"sqlite:///Resources/hawaii.sqlite\")"
   ]
  },
  {
   "cell_type": "code",
   "execution_count": 7,
   "metadata": {},
   "outputs": [],
   "source": [
    "# reflect an existing database into a new model\n",
    "Base = automap_base()\n",
    "# reflect the tables\n",
    "Base.prepare(engine, reflect = True)"
   ]
  },
  {
   "cell_type": "code",
   "execution_count": 8,
   "metadata": {},
   "outputs": [
    {
     "data": {
      "text/plain": [
       "['measurement', 'station']"
      ]
     },
     "execution_count": 8,
     "metadata": {},
     "output_type": "execute_result"
    }
   ],
   "source": [
    "# We can view all of the classes that automap found\n",
    "tables = Base.classes.keys()\n",
    "tables"
   ]
  },
  {
   "cell_type": "code",
   "execution_count": 9,
   "metadata": {},
   "outputs": [],
   "source": [
    "# Save references to each table\n",
    "tbl_measurement = Base.classes['measurement']\n",
    "tbl_station = Base.classes['station']"
   ]
  },
  {
   "cell_type": "code",
   "execution_count": 10,
   "metadata": {},
   "outputs": [
    {
     "name": "stdout",
     "output_type": "stream",
     "text": [
      "\n",
      "\n",
      "------------\n",
      "table 'measurement' has the following columns:\n",
      "------------\n",
      "name: id   column type: INTEGER\n",
      "name: station   column type: TEXT\n",
      "name: date   column type: TEXT\n",
      "name: prcp   column type: FLOAT\n",
      "name: tobs   column type: FLOAT\n",
      "\n",
      "\n",
      "------------\n",
      "table 'station' has the following columns:\n",
      "------------\n",
      "name: id   column type: INTEGER\n",
      "name: station   column type: TEXT\n",
      "name: name   column type: TEXT\n",
      "name: latitude   column type: FLOAT\n",
      "name: longitude   column type: FLOAT\n",
      "name: elevation   column type: FLOAT\n"
     ]
    }
   ],
   "source": [
    "# creating inspectior for columns generation\n",
    "inspector = inspect(engine)\n",
    "# Printing table metadata\n",
    "for table in tables:\n",
    "    print(\"\\n\")\n",
    "    print('-' * 12)\n",
    "    print(f\"table '{table}' has the following columns:\")\n",
    "    print('-' * 12)\n",
    "    for column in inspector.get_columns(table):\n",
    "        print(f\"name: {column['name']}   column type: {column['type']}\")"
   ]
  },
  {
   "cell_type": "code",
   "execution_count": 11,
   "metadata": {},
   "outputs": [],
   "source": [
    "# Create our session (link) from Python to the DB\n",
    "session = Session(bind=engine)"
   ]
  },
  {
   "cell_type": "markdown",
   "metadata": {},
   "source": [
    "# Exploratory Climate Analysis"
   ]
  },
  {
   "cell_type": "code",
   "execution_count": 12,
   "metadata": {},
   "outputs": [],
   "source": [
    "# idea base from: https://riptutorial.com/sqlalchemy/example/6614/converting-a-query-result-to-dict\n",
    "def object_as_dict(obj):\n",
    "    \"\"\"\n",
    "    This function takes in a Class instance and converts it to a dictionary\n",
    "    \"\"\"\n",
    "    obj_count = 1\n",
    "    try:\n",
    "        obj_count = len(obj)\n",
    "    except:\n",
    "        pass\n",
    "    if  obj_count == 1:\n",
    "        base_dict = {c.key: getattr(obj, c.key)\n",
    "            for c in inspect(obj).mapper.column_attrs}\n",
    "        return base_dict\n",
    "    else:\n",
    "        cur_obj = obj[0]\n",
    "        base_dict = {c.key: getattr(cur_obj, c.key) for c in inspect(cur_obj).mapper.column_attrs}\n",
    "        for i in range(1, obj_count):\n",
    "            cur_obj = obj[i]\n",
    "            cur_dict = {c.key: getattr(cur_obj, c.key) for c in inspect(cur_obj).mapper.column_attrs}\n",
    "            base_dict = {**base_dict, **cur_dict} \n",
    "        return base_dict  "
   ]
  },
  {
   "cell_type": "code",
   "execution_count": 13,
   "metadata": {},
   "outputs": [],
   "source": [
    "# from jeff LOL\n",
    "def query_to_list_of_dicts(cur_query):\n",
    "    \"\"\"\n",
    "    From a query object return a list of dictionaries\n",
    "    \"\"\"\n",
    "    return [object_as_dict(row) for row in cur_query]"
   ]
  },
  {
   "cell_type": "code",
   "execution_count": 14,
   "metadata": {},
   "outputs": [
    {
     "data": {
      "text/plain": [
       "'2019-04-10'"
      ]
     },
     "execution_count": 14,
     "metadata": {},
     "output_type": "execute_result"
    }
   ],
   "source": [
    "#Define function to substract # of months from a date (today() function is default)\n",
    "def month_offset(no_months, input_date=dt.date.today()):\n",
    "    \"\"\"\n",
    "    Returns the datetime (today by default) plus or minus the number of months.\n",
    "    Needs pandas & datetime library\n",
    "    \"\"\"\n",
    "    input_date=pd.to_datetime(input_date)\n",
    "    current_month = input_date.month\n",
    "    current_year = input_date.year\n",
    "    total_months = current_month+current_year*12\n",
    "    final_year = (total_months+no_months) // 12\n",
    "    final_month = (total_months+no_months) % 12\n",
    "    output_date = input_date.replace(year=final_year,month=final_month)\n",
    "    return dt.date.strftime(output_date, '%Y-%m-%d')\n",
    "\n",
    "\n",
    "#test\n",
    "month_offset(-12)"
   ]
  },
  {
   "cell_type": "code",
   "execution_count": 15,
   "metadata": {},
   "outputs": [
    {
     "data": {
      "text/plain": [
       "[]"
      ]
     },
     "execution_count": 15,
     "metadata": {},
     "output_type": "execute_result"
    },
    {
     "data": {
      "image/png": "[encoded data removed]",
      "text/plain": [
       "<Figure size 432x288 with 1 Axes>"
      ]
     },
     "metadata": {
      "needs_background": "light"
     },
     "output_type": "display_data"
    }
   ],
   "source": [
    "# Design a query to retrieve the last 12 months of precipitation data and plot the results\n",
    "\n",
    "# Calculate the date 1 year before the latest data point in the database\n",
    "last_date_recorded = session.query(func.max(tbl_measurement.date)).first()[0]\n",
    "starting_date_for_analysis = month_offset(-12, last_date_recorded)\n",
    "\n",
    "# Perform a query to retrieve the data and precipitation scores\n",
    "qry_measurements_last_year_records = session.query(tbl_measurement)\\\n",
    "    .filter(tbl_measurement.date > starting_date_for_analysis)\\\n",
    "    .order_by(tbl_measurement.date)\n",
    "\n",
    "# Save the query results as a Pandas DataFrame and set the index to the date column\n",
    "df_measurements_last_year_records = \\\n",
    "    pd.read_sql_query(qry_measurements_last_year_records.statement, session.bind)\n",
    "\n",
    "# Use Pandas Plotting with Matplotlib to plot the data\n",
    "x_axis=df_measurements_last_year_records.loc[:,\"date\"]\n",
    "y_axis=df_measurements_last_year_records.loc[:,\"prcp\"]\n",
    "\n",
    "# Plotting the data\n",
    "fig, ax = plt.subplots()\n",
    "ax.plot(x_axis, y_axis)\n",
    "ax.set_xlabel(\"Date\")\n",
    "ax.set_ylabel(\"Inches\")\n",
    "ax.legend([\"precipitation\"], loc=\"upper right\")\n",
    "\n",
    "# Spacing between each grid line\n",
    "loc = plticker.MultipleLocator(base=45)\n",
    "ax.xaxis.set_major_locator(loc)\n",
    "# Rotate x axis ticks\n",
    "ax.tick_params(axis=\"x\", labelrotation=90)\n",
    "\n",
    "plt.plot()\n"
   ]
  },
  {
   "cell_type": "code",
   "execution_count": 16,
   "metadata": {},
   "outputs": [
    {
     "data": {
      "text/plain": [
       "count    2015.000000\n",
       "mean        0.176462\n",
       "std         0.460288\n",
       "min         0.000000\n",
       "25%         0.000000\n",
       "50%         0.020000\n",
       "75%         0.130000\n",
       "max         6.700000\n",
       "Name: prcp, dtype: float64"
      ]
     },
     "execution_count": 16,
     "metadata": {},
     "output_type": "execute_result"
    }
   ],
   "source": [
    "# Use Pandas to calcualte the summary statistics for the precipitation data\n",
    "df_measurements_last_year_records.loc[:,\"prcp\"].describe()"
   ]
  },
  {
   "cell_type": "code",
   "execution_count": 29,
   "metadata": {},
   "outputs": [
    {
     "name": "stdout",
     "output_type": "stream",
     "text": [
      "9\n"
     ]
    }
   ],
   "source": [
    "# Design a query to show how many stations are available in this dataset?\n",
    "qry_no_stations = session.query(func.count(tbl_station.name)).first()\n",
    "number_of_distinct_stations=qry_no_stations[0]"
   ]
  },
  {
   "cell_type": "code",
   "execution_count": 107,
   "metadata": {},
   "outputs": [
    {
     "data": {
      "text/html": [
       "<div>\n",
       "<style scoped>\n",
       "    .dataframe tbody tr th:only-of-type {\n",
       "        vertical-align: middle;\n",
       "    }\n",
       "\n",
       "    .dataframe tbody tr th {\n",
       "        vertical-align: top;\n",
       "    }\n",
       "\n",
       "    .dataframe thead th {\n",
       "        text-align: right;\n",
       "    }\n",
       "</style>\n",
       "<table border=\"1\" class=\"dataframe\">\n",
       "  <thead>\n",
       "    <tr style=\"text-align: right;\">\n",
       "      <th></th>\n",
       "      <th>name</th>\n",
       "      <th>count_id</th>\n",
       "    </tr>\n",
       "  </thead>\n",
       "  <tbody>\n",
       "    <tr>\n",
       "      <td>0</td>\n",
       "      <td>WAIHEE 837.5, HI US</td>\n",
       "      <td>2772</td>\n",
       "    </tr>\n",
       "    <tr>\n",
       "      <td>1</td>\n",
       "      <td>WAIKIKI 717.2, HI US</td>\n",
       "      <td>2724</td>\n",
       "    </tr>\n",
       "    <tr>\n",
       "      <td>2</td>\n",
       "      <td>KANEOHE 838.1, HI US</td>\n",
       "      <td>2709</td>\n",
       "    </tr>\n",
       "    <tr>\n",
       "      <td>3</td>\n",
       "      <td>WAIMANALO EXPERIMENTAL FARM, HI US</td>\n",
       "      <td>2669</td>\n",
       "    </tr>\n",
       "    <tr>\n",
       "      <td>4</td>\n",
       "      <td>MANOA LYON ARBO 785.2, HI US</td>\n",
       "      <td>2612</td>\n",
       "    </tr>\n",
       "    <tr>\n",
       "      <td>5</td>\n",
       "      <td>KUALOA RANCH HEADQUARTERS 886.9, HI US</td>\n",
       "      <td>2202</td>\n",
       "    </tr>\n",
       "    <tr>\n",
       "      <td>6</td>\n",
       "      <td>HONOLULU OBSERVATORY 702.2, HI US</td>\n",
       "      <td>1979</td>\n",
       "    </tr>\n",
       "    <tr>\n",
       "      <td>7</td>\n",
       "      <td>PEARL CITY, HI US</td>\n",
       "      <td>1372</td>\n",
       "    </tr>\n",
       "    <tr>\n",
       "      <td>8</td>\n",
       "      <td>UPPER WAHIAWA 874.3, HI US</td>\n",
       "      <td>511</td>\n",
       "    </tr>\n",
       "  </tbody>\n",
       "</table>\n",
       "</div>"
      ],
      "text/plain": [
       "                                     name  count_id\n",
       "0                     WAIHEE 837.5, HI US      2772\n",
       "1                    WAIKIKI 717.2, HI US      2724\n",
       "2                    KANEOHE 838.1, HI US      2709\n",
       "3      WAIMANALO EXPERIMENTAL FARM, HI US      2669\n",
       "4            MANOA LYON ARBO 785.2, HI US      2612\n",
       "5  KUALOA RANCH HEADQUARTERS 886.9, HI US      2202\n",
       "6       HONOLULU OBSERVATORY 702.2, HI US      1979\n",
       "7                       PEARL CITY, HI US      1372\n",
       "8              UPPER WAHIAWA 874.3, HI US       511"
      ]
     },
     "execution_count": 107,
     "metadata": {},
     "output_type": "execute_result"
    }
   ],
   "source": [
    "# What are the most active stations? (i.e. what stations have the most rows)?\n",
    "# List the stations and the counts in descending order.\n",
    "qry_station_activity = session \\\n",
    "    .query(tbl_station.name,func.count(tbl_measurement.id).label('count_id')) \\\n",
    "    .filter(tbl_station.station==tbl_measurement.station) \\\n",
    "    .group_by(tbl_station.name) \\\n",
    "    .order_by(desc('count_id'))\n",
    "df_station_activity = pd.read_sql_query(qry_station_activity.statement, session.bind)\n",
    "df_station_activity"
   ]
  },
  {
   "cell_type": "code",
   "execution_count": 118,
   "metadata": {},
   "outputs": [
    {
     "data": {
      "text/html": [
       "<div>\n",
       "<style scoped>\n",
       "    .dataframe tbody tr th:only-of-type {\n",
       "        vertical-align: middle;\n",
       "    }\n",
       "\n",
       "    .dataframe tbody tr th {\n",
       "        vertical-align: top;\n",
       "    }\n",
       "\n",
       "    .dataframe thead th {\n",
       "        text-align: right;\n",
       "    }\n",
       "</style>\n",
       "<table border=\"1\" class=\"dataframe\">\n",
       "  <thead>\n",
       "    <tr style=\"text-align: right;\">\n",
       "      <th></th>\n",
       "      <th>name</th>\n",
       "      <th>t_min</th>\n",
       "      <th>t_avg</th>\n",
       "      <th>t_max</th>\n",
       "    </tr>\n",
       "  </thead>\n",
       "  <tbody>\n",
       "    <tr>\n",
       "      <td>0</td>\n",
       "      <td>WAIHEE 837.5, HI US</td>\n",
       "      <td>54.0</td>\n",
       "      <td>71.663781</td>\n",
       "      <td>85.0</td>\n",
       "    </tr>\n",
       "  </tbody>\n",
       "</table>\n",
       "</div>"
      ],
      "text/plain": [
       "                  name  t_min      t_avg  t_max\n",
       "0  WAIHEE 837.5, HI US   54.0  71.663781   85.0"
      ]
     },
     "execution_count": 118,
     "metadata": {},
     "output_type": "execute_result"
    }
   ],
   "source": [
    "# Using the station id from the previous query, calculate the lowest temperature recorded, \n",
    "# highest temperature recorded, and average temperature of the most active station?\n",
    "qry_Waihee_info = session \\\n",
    "    .query(\n",
    "        tbl_station.name, \\\n",
    "        func.min(tbl_measurement.tobs).label('t_min'), \\\n",
    "        func.avg(tbl_measurement.tobs).label('t_avg'), \\\n",
    "        func.max(tbl_measurement.tobs).label('t_max')) \\\n",
    "    .filter(and_(\n",
    "        tbl_station.station==tbl_measurement.station, \\\n",
    "        tbl_station.name==\"WAIHEE 837.5, HI US\")) \\\n",
    "df_Waihee_info = pd.read_sql_query(qry_Waihee_info.statement, session.bind)\n",
    "df_Waihee_info"
   ]
  },
  {
   "cell_type": "code",
   "execution_count": 135,
   "metadata": {},
   "outputs": [
    {
     "data": {
      "image/png": "[encoded data removed]",
      "text/plain": [
       "<Figure size 432x288 with 1 Axes>"
      ]
     },
     "metadata": {
      "needs_background": "light"
     },
     "output_type": "display_data"
    }
   ],
   "source": [
    "# Choose the station with the highest number of temperature observations.\n",
    "# Query the last 12 months of temperature observation data for this station and plot the results as a histogram\n",
    "\n",
    "# Query to get the latest date for Waihee station\n",
    "qry_Waihee_latest_date = session \\\n",
    "    .query(\n",
    "        tbl_station.name, \\\n",
    "        tbl_measurement.date) \\\n",
    "    .filter(and_(\n",
    "        tbl_station.station==tbl_measurement.station, \\\n",
    "        tbl_station.name==\"WAIHEE 837.5, HI US\")) \\\n",
    "    .order_by(desc(tbl_measurement.date)) \\\n",
    "    .first()[1]\n",
    "qry_Waihee_latest_date\n",
    "\n",
    "# Query to get the last year of data for Waihee station\n",
    "qry_Waihee_data_to_plot = session \\\n",
    "    .query(\n",
    "        tbl_measurement.date, \\\n",
    "        tbl_measurement.tobs) \\\n",
    "    .filter(and_(\n",
    "        tbl_station.station==tbl_measurement.station, \\\n",
    "        tbl_station.name==\"WAIHEE 837.5, HI US\"),\n",
    "        tbl_measurement.date>month_offset(-12, qry_Waihee_latest_date)) \\\n",
    "    .order_by(desc(tbl_measurement.date)) \n",
    "qry_Waihee_data_to_plot = pd.read_sql_query(qry_Waihee_data_to_plot.statement, session.bind)\n",
    "#qry_Waihee_data_to_plot\n",
    "\n",
    "fig, ax = plt.subplots()\n",
    "ax.hist(qry_Waihee_data_to_plot['tobs'], bins=12)\n",
    "ax.legend([\"tobs\"], loc=\"upper left\")\n",
    "ax.set_xlabel(\"Temperature\")\n",
    "ax.set_ylabel(\"Frequency\")\n",
    "plt.show()\n",
    "\n",
    "# last_date_recorded = session.query(func.max(tbl_measurement.date)).first()[0]\n",
    "# starting_date_for_analysis = month_offset(-12, last_date_recorded)"
   ]
  },
  {
   "cell_type": "markdown",
   "metadata": {},
   "source": [
    "## Bonus Challenge Assignment"
   ]
  },
  {
   "cell_type": "code",
   "execution_count": null,
   "metadata": {},
   "outputs": [],
   "source": [
    "# This function called `calc_temps` will accept start date and end date in the format '%Y-%m-%d' \n",
    "# and return the minimum, average, and maximum temperatures for that range of dates\n",
    "def calc_temps(start_date, end_date):\n",
    "    \"\"\"TMIN, TAVG, and TMAX for a list of dates.\n",
    "    \n",
    "    Args:\n",
    "        start_date (string): A date string in the format %Y-%m-%d\n",
    "        end_date (string): A date string in the format %Y-%m-%d\n",
    "        \n",
    "    Returns:\n",
    "        TMIN, TAVE, and TMAX\n",
    "    \"\"\"\n",
    "    \n",
    "    return session.query(func.min(Measurement.tobs), func.avg(Measurement.tobs), func.max(Measurement.tobs)).\\\n",
    "        filter(Measurement.date >= start_date).filter(Measurement.date <= end_date).all()\n",
    "\n",
    "# function usage example\n",
    "print(calc_temps('2012-02-28', '2012-03-05'))"
   ]
  },
  {
   "cell_type": "code",
   "execution_count": null,
   "metadata": {},
   "outputs": [],
   "source": [
    "# Use your previous function `calc_temps` to calculate the tmin, tavg, and tmax \n",
    "# for your trip using the previous year's data for those same dates.\n"
   ]
  },
  {
   "cell_type": "code",
   "execution_count": null,
   "metadata": {},
   "outputs": [],
   "source": [
    "# Plot the results from your previous query as a bar chart. \n",
    "# Use \"Trip Avg Temp\" as your Title\n",
    "# Use the average temperature for the y value\n",
    "# Use the peak-to-peak (tmax-tmin) value as the y error bar (yerr)\n"
   ]
  },
  {
   "cell_type": "code",
   "execution_count": null,
   "metadata": {},
   "outputs": [],
   "source": [
    "# Calculate the total amount of rainfall per weather station for your trip dates using the previous year's matching dates.\n",
    "# Sort this in descending order by precipitation amount and list the station, name, latitude, longitude, and elevation\n",
    "\n"
   ]
  },
  {
   "cell_type": "code",
   "execution_count": null,
   "metadata": {},
   "outputs": [],
   "source": [
    "# Create a query that will calculate the daily normals \n",
    "# (i.e. the averages for tmin, tmax, and tavg for all historic data matching a specific month and day)\n",
    "\n",
    "def daily_normals(date):\n",
    "    \"\"\"Daily Normals.\n",
    "    \n",
    "    Args:\n",
    "        date (str): A date string in the format '%m-%d'\n",
    "        \n",
    "    Returns:\n",
    "        A list of tuples containing the daily normals, tmin, tavg, and tmax\n",
    "    \n",
    "    \"\"\"\n",
    "    \n",
    "    sel = [func.min(Measurement.tobs), func.avg(Measurement.tobs), func.max(Measurement.tobs)]\n",
    "    return session.query(*sel).filter(func.strftime(\"%m-%d\", Measurement.date) == date).all()\n",
    "    \n",
    "daily_normals(\"01-01\")"
   ]
  },
  {
   "cell_type": "code",
   "execution_count": null,
   "metadata": {},
   "outputs": [],
   "source": [
    "# calculate the daily normals for your trip\n",
    "# push each tuple of calculations into a list called `normals`\n",
    "\n",
    "# Set the start and end date of the trip\n",
    "\n",
    "# Use the start and end date to create a range of dates\n",
    "\n",
    "# Stip off the year and save a list of %m-%d strings\n",
    "\n",
    "# Loop through the list of %m-%d strings and calculate the normals for each date\n"
   ]
  },
  {
   "cell_type": "code",
   "execution_count": null,
   "metadata": {},
   "outputs": [],
   "source": [
    "# Load the previous query results into a Pandas DataFrame and add the `trip_dates` range as the `date` index\n"
   ]
  },
  {
   "cell_type": "code",
   "execution_count": null,
   "metadata": {},
   "outputs": [],
   "source": [
    "# Plot the daily normals as an area plot with `stacked=False`\n"
   ]
  }
 ],
 "metadata": {
  "kernel_info": {
   "name": "python3"
  },
  "kernelspec": {
   "display_name": "Python 3",
   "language": "python",
   "name": "python3"
  },
  "language_info": {
   "codemirror_mode": {
    "name": "ipython",
    "version": 3
   },
   "file_extension": ".py",
   "mimetype": "text/x-python",
   "name": "python",
   "nbconvert_exporter": "python",
   "pygments_lexer": "ipython3",
   "version": "3.7.4"
  },
  "nteract": {
   "version": "0.12.3"
  },
  "varInspector": {
   "cols": {
    "lenName": 16,
    "lenType": 16,
    "lenVar": 40
   },
   "kernels_config": {
    "python": {
     "delete_cmd_postfix": "",
     "delete_cmd_prefix": "del ",
     "library": "var_list.py",
     "varRefreshCmd": "print(var_dic_list())"
    },
    "r": {
     "delete_cmd_postfix": ") ",
     "delete_cmd_prefix": "rm(",
     "library": "var_list.r",
     "varRefreshCmd": "cat(var_dic_list()) "
    }
   },
   "types_to_exclude": [
    "module",
    "function",
    "builtin_function_or_method",
    "instance",
    "_Feature"
   ],
   "window_display": false
  }
 },
 "nbformat": 4,
 "nbformat_minor": 2
}
